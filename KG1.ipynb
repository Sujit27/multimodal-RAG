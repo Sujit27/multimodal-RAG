{
 "cells": [
  {
   "cell_type": "code",
   "execution_count": 6,
   "metadata": {},
   "outputs": [],
   "source": [
    "import os"
   ]
  },
  {
   "cell_type": "code",
   "execution_count": 7,
   "metadata": {},
   "outputs": [],
   "source": [
    "from langchain_core.runnables import (\n",
    "    RunnableBranch,\n",
    "    RunnableLambda,\n",
    "    RunnableParallel,\n",
    "    RunnablePassthrough,\n",
    ")\n",
    "from langchain_core.prompts import ChatPromptTemplate\n",
    "from langchain_core.prompts.prompt import PromptTemplate\n",
    "from langchain_core.pydantic_v1 import BaseModel, Field\n",
    "from typing import Tuple, List, Optional\n",
    "from langchain_core.messages import AIMessage, HumanMessage\n",
    "from langchain_core.output_parsers import StrOutputParser\n",
    "import os\n",
    "from langchain_community.graphs import Neo4jGraph\n",
    "from langchain.document_loaders import WikipediaLoader\n",
    "from langchain.text_splitter import TokenTextSplitter\n",
    "from langchain_openai import ChatOpenAI\n",
    "from langchain_experimental.graph_transformers import LLMGraphTransformer\n",
    "from neo4j import GraphDatabase\n",
    "from yfiles_jupyter_graphs import GraphWidget\n",
    "from langchain_community.vectorstores import Neo4jVector\n",
    "from langchain_openai import OpenAIEmbeddings\n",
    "from langchain_community.vectorstores.neo4j_vector import remove_lucene_chars\n",
    "from langchain_core.runnables import ConfigurableField, RunnableParallel, RunnablePassthrough"
   ]
  },
  {
   "cell_type": "code",
   "execution_count": 8,
   "metadata": {},
   "outputs": [],
   "source": [
    "from api_key import API_key,neo4j_url,neo4j_username,neo4j_password"
   ]
  },
  {
   "cell_type": "code",
   "execution_count": 9,
   "metadata": {},
   "outputs": [],
   "source": [
    "os.environ[\"OPENAI_API_KEY\"] = API_key\n",
    "os.environ[\"NEO4J_URI\"] = neo4j_url\n",
    "os.environ[\"NEO4J_USERNAME\"] = neo4j_username\n",
    "os.environ[\"NEO4J_PASSWORD\"] = neo4j_password"
   ]
  },
  {
   "cell_type": "code",
   "execution_count": 10,
   "metadata": {},
   "outputs": [],
   "source": [
    "graph = Neo4jGraph()"
   ]
  },
  {
   "cell_type": "code",
   "execution_count": 11,
   "metadata": {},
   "outputs": [],
   "source": [
    "# Read the wikipedia article\n",
    "raw_documents = WikipediaLoader(query=\"Naveen Patnaik\").load()"
   ]
  },
  {
   "cell_type": "code",
   "execution_count": 12,
   "metadata": {},
   "outputs": [
    {
     "data": {
      "text/plain": [
       "Document(page_content=\"Arup Patnaik (born 8 September 1955) is a retired Indian Police Service officer who was the 36th Police Commissioner of Mumbai. He retired on 30 September 2015 after a 36-year career in the Maharashtra Police. He is a recipient of the President's Police Medal for Distinguished Service in 2003 and the Indian Police Medal for meritorious services in 1994.\\nArup Patnaik has previously served as the Chairman of Odisha's State Youth Welfare Board, the Biju Yuva Vahini and was accorded the rank and status of Minister of State by the Odisha State Government.\\nPatnaik joined the Biju Janata Dal in 2018. \\nIn the 2019 General Election he contested the Bhubaneswar Lok Sabha constituency.  \\nThe BJP candidate, Aparajita Sarangi, won the election.  \\nOn October 25, 2019 Odisha Chief Minister Naveen Patnaik appointed Arup Patnaik as the Convenor of the Biju Janata Dal social service wing, 'Odisha Mo Parivar.  \\nOn October 30, 2019, Arup Patnaik was inducted as a Co-Opted Member of the House Committee of the Odisha Assembly to look into aspects of Environmental Pollution in the State.   \\nArup Patnaik cofounded the Konark Cancer Foundation.\\n\\n\\n== Early life ==\\n\\nPatnaik was born on 8 September 1955 in Bhubaneswar, Odisha. He studied up to Class 6th in Cuttack’s Pyarimohan Academy but later attended Mayo College, Ajmer, from where he passed his Indian School Certificate examination in 1971. In-School, he distinguished himself in Boxing and Football.\\nHe is a recipient of The National Science Talent Search Scholarship awarded by the NCERT. He completed his B.Sc. (Chemistry - Hons) from Delhi University.\\nHowever, while pursuing his Post Graduate studies in Chemistry, he left halfway to join the State Bank of India as a Probationary Officer in 1976 and worked there till 1979.\\n\\n\\n== Police career ==\\n\\nPatnaik joined the I.P.S. in 1979 and was posted as probationary Asst. Supdt. of Police, Nasik from 1981 to 1982 and as Suptd. of Police Latur from 1983 to 1986. Patnaik was then transferred to Nagpur City from 1986 to 1988. After Nagpur, Patnaik was posted as Supt. of Police, Jalgaon, from 1988 to 1991. In Mumbai City, he was Deputy Commissioner of Police Zone VII from March 1991 until March 1994. He was a member of the 1993 Bomb Blast team and was also instrumental in the largest ever seizure of RDX, to the tune of 1500 kg at Mumbra in 1993. Patnaik went on deputation to the Central Bureau of Investigation in March 1994 and was assigned the critical charge of supervising investigations into the multi-crore Harshad Mehta security scam.\\nPatnaik held the position of Additional Commissioner of Police, South Mumbai, from 1999 to 2001.\\nOn promotion as Inspector General of Police, he headed State Reserve Police Force (S.R.P.F.) from 2001 to 2005. He was moved back to Mumbai Police Commissionerate as Jt.Commissioner of Police, (Law & Order), a post which he held between 2005 and 2007. \\nIn 2007, Patnaik was promoted as Addl. Director-General of Police and he held the post of Addl.Director-General of Police, (Traffic) Maharashtra State, from July 2007 to February 2011. It was during his tenure that the powers of the enforcement, which were taken away from the State Traffic Police on allegation of misuse, were restored.\\nFrom February 2011 to August 2012, Patnaik was appointed as the Commissioner of Police, Mumbai.\\nPatnaik was abruptly transferred from his post as Commissioner of Police in the aftermath of the Azad Maidan riots and was succeeded by Satyapal Singh.\\n\\n\\n== Personal life ==\\nArup Patnaik is married to Vidhurita, a former Senior Executive with M/s Bennett Coleman and Company Limited The Times Group and has two children, Chirantan and Tanmay.\\nAlong with neurosurgeon B. K. Misra and cardiac surgeon Ramakanta Panda, he established the Konark Cancer Foundation for patients coming to the Tata Memorial Hospital for cancer treatment, providing them with financial and logistical support such as food, shelter, and medications.\\n\\n\\n== In popular culture ==\\nIn the 2004 act\", metadata={'title': 'Arup Patnaik', 'summary': \"Arup Patnaik (born 8 September 1955) is a retired Indian Police Service officer who was the 36th Police Commissioner of Mumbai. He retired on 30 September 2015 after a 36-year career in the Maharashtra Police. He is a recipient of the President's Police Medal for Distinguished Service in 2003 and the Indian Police Medal for meritorious services in 1994.\\nArup Patnaik has previously served as the Chairman of Odisha's State Youth Welfare Board, the Biju Yuva Vahini and was accorded the rank and status of Minister of State by the Odisha State Government.\\nPatnaik joined the Biju Janata Dal in 2018. \\nIn the 2019 General Election he contested the Bhubaneswar Lok Sabha constituency.  \\nThe BJP candidate, Aparajita Sarangi, won the election.  \\nOn October 25, 2019 Odisha Chief Minister Naveen Patnaik appointed Arup Patnaik as the Convenor of the Biju Janata Dal social service wing, 'Odisha Mo Parivar.  \\nOn October 30, 2019, Arup Patnaik was inducted as a Co-Opted Member of the House Committee of the Odisha Assembly to look into aspects of Environmental Pollution in the State.   \\nArup Patnaik cofounded the Konark Cancer Foundation.\\n\\n\", 'source': 'https://en.wikipedia.org/wiki/Arup_Patnaik'})"
      ]
     },
     "execution_count": 12,
     "metadata": {},
     "output_type": "execute_result"
    }
   ],
   "source": [
    "raw_documents[4]"
   ]
  },
  {
   "cell_type": "code",
   "execution_count": 13,
   "metadata": {},
   "outputs": [],
   "source": [
    "# Define chunking strategy\n",
    "text_splitter = TokenTextSplitter(chunk_size=512, chunk_overlap=24)\n",
    "documents = text_splitter.split_documents(raw_documents[:1])"
   ]
  },
  {
   "cell_type": "code",
   "execution_count": 15,
   "metadata": {},
   "outputs": [
    {
     "data": {
      "text/plain": [
       "Document(page_content=\", he was elected as a member to the 11th Lok Sabha in the by-election from Aska Parliamentary Constituency in Odisha, India. He was a member of the Consultative Committee of Ministry of Steel & Mines, Member of Standing Committee on Commerce, and Member Library Committee of Parliament. In \\nDecember 1997, Naveen split from the Janata Dal and founded the Biju Janata Dal. The new party was in alliance with the BJP-led National Democratic Alliance performed well and Naveen Patnaik was selected the Union Minister for Mines in the cabinet of Atal Bihari Vajpayee.\\n\\n\\n=== Elections 2000 ===\\nIn the 2000 Assembly election, BJD won the majority of seats in alliance with the BJP in the Odisha Assembly elections, Patnaik resigned from the Union cabinet and was sworn in as the Chief Minister of Odisha.\\n\\n\\n=== Elections 2004 ===\\nBJP led NDA lost the general elections in 2004, however, the coalition led by Naveen Patnaik emerged victorious in the state legislative elections and he continued as the Chief Minister. During this tenure, the friction between the ruling partners was getting more and more apparent, especially after the killing of Swami Laxmanananda Saraswati in the Kandhamal district of Odisha in 2007–2008 and also the active participation of Bajrang Dal in the riots that hit Kandhamal region.\\n\\n\\n=== Elections 2009 ===\\nIn the run-up to the polls for the Lok Sabha and Legislative Assembly of Odisha elections in 2009, BJD walked out of the NDA after severing ties with the BJP and joined the nascent Third Front constituted mainly by the Left Front and few regional parties. He did it after severely criticizing BJP's involvement in Kandhamal anti-Christian riots during 2007. The BJD won a resounding victory in both the Vidhan Sabha (State Assembly) as well as the Lok Sabha elections in 2009, winning 14 out of 21 Lok Sabha seats and 103 of the 147 assembly seats and was sworn in as the Chief Minister of Odisha on 21 May 2009 for the third consecutive term.\\n\\n\\n=== Elections 2014 ===\\nPatnaik won a huge v\", metadata={'title': 'Naveen Patnaik', 'summary': 'Naveen Patnaik (Odia: [n̪ɔbin̪ pɔʈn̪ajk]; born 16 October 1946) is an Indian politician who served as the 14th Chief Minister of Odisha from 5th March 2000 to 12 June 2024. His 24-year reign is the second longest for a chief minister of any Indian state, after Pawan Kumar Chamling of Sikkim. He is the first president of the Biju Janata Dal since 1997.\\nHe served as the Union Minister of Steel and Mines from 1998 to 2000 and a member of the Lok Sabha from Aska from 1997 to 2000.', 'source': 'https://en.wikipedia.org/wiki/Naveen_Patnaik'})"
      ]
     },
     "execution_count": 15,
     "metadata": {},
     "output_type": "execute_result"
    }
   ],
   "source": [
    "documents[1]"
   ]
  },
  {
   "cell_type": "code",
   "execution_count": 16,
   "metadata": {},
   "outputs": [],
   "source": [
    "llm=ChatOpenAI(temperature=0, model_name=\"gpt-3.5-turbo\")"
   ]
  },
  {
   "cell_type": "code",
   "execution_count": 17,
   "metadata": {},
   "outputs": [],
   "source": [
    "llm_transformer = LLMGraphTransformer(llm=llm)"
   ]
  },
  {
   "cell_type": "code",
   "execution_count": 18,
   "metadata": {},
   "outputs": [],
   "source": [
    "# Extract graph data\n",
    "graph_documents = llm_transformer.convert_to_graph_documents(documents)"
   ]
  },
  {
   "cell_type": "code",
   "execution_count": 19,
   "metadata": {},
   "outputs": [],
   "source": [
    "# Store to neo4j\n",
    "graph.add_graph_documents(\n",
    "  graph_documents, \n",
    "  baseEntityLabel=True, \n",
    "  include_source=True\n",
    ")"
   ]
  },
  {
   "cell_type": "code",
   "execution_count": 20,
   "metadata": {},
   "outputs": [
    {
     "data": {
      "application/vnd.jupyter.widget-view+json": {
       "model_id": "f0c2af30690b44a0a275dfae3984c2b4",
       "version_major": 2,
       "version_minor": 0
      },
      "text/plain": [
       "GraphWidget(layout=Layout(height='800px', width='100%'))"
      ]
     },
     "metadata": {},
     "output_type": "display_data"
    }
   ],
   "source": [
    "# directly show the graph resulting from the given Cypher query\n",
    "default_cypher = \"MATCH (s)-[r:!MENTIONS]->(t) RETURN s,r,t LIMIT 50\"\n",
    "\n",
    "def showGraph(cypher: str = default_cypher):\n",
    "    # create a neo4j session to run queries\n",
    "    driver = GraphDatabase.driver(\n",
    "        uri = os.environ[\"NEO4J_URI\"],\n",
    "        auth = (os.environ[\"NEO4J_USERNAME\"],\n",
    "                os.environ[\"NEO4J_PASSWORD\"]))\n",
    "    session = driver.session()\n",
    "    widget = GraphWidget(graph = session.run(cypher).graph())\n",
    "    widget.node_label_mapping = 'id'\n",
    "    #display(widget)\n",
    "    return widget\n",
    "\n",
    "showGraph()"
   ]
  },
  {
   "cell_type": "code",
   "execution_count": 21,
   "metadata": {},
   "outputs": [
    {
     "name": "stderr",
     "output_type": "stream",
     "text": [
      "Received notification from DBMS server: {severity: WARNING} {code: Neo.ClientNotification.Statement.FeatureDeprecationWarning} {category: DEPRECATION} {title: This feature is deprecated and will be removed in future versions.} {description: The query used a deprecated procedure. ('db.create.setVectorProperty' has been replaced by 'db.create.setNodeVectorProperty')} {position: line: 1, column: 70, offset: 69} for query: \"UNWIND $data AS row MATCH (n:`Document`) WHERE elementId(n) = row.id CALL db.create.setVectorProperty(n, 'embedding', row.embedding) YIELD node RETURN count(*)\"\n"
     ]
    }
   ],
   "source": [
    "vector_index = Neo4jVector.from_existing_graph(\n",
    "    OpenAIEmbeddings(),\n",
    "    search_type=\"hybrid\",\n",
    "    node_label=\"Document\",\n",
    "    text_node_properties=[\"text\"],\n",
    "    embedding_node_property=\"embedding\"\n",
    ")"
   ]
  },
  {
   "cell_type": "code",
   "execution_count": 22,
   "metadata": {},
   "outputs": [],
   "source": [
    "# Extract entities from text\n",
    "class Entities(BaseModel):\n",
    "    \"\"\"Identifying information about entities.\"\"\"\n",
    "\n",
    "    names: List[str] = Field(\n",
    "        ...,\n",
    "        description=\"All the person, organization, or business entities that \"\n",
    "        \"appear in the text\",\n",
    "    )"
   ]
  },
  {
   "cell_type": "code",
   "execution_count": 23,
   "metadata": {},
   "outputs": [],
   "source": [
    "prompt = ChatPromptTemplate.from_messages(\n",
    "    [\n",
    "        (\n",
    "            \"system\",\n",
    "            \"You are extracting organization and person entities from the text.\",\n",
    "        ),\n",
    "        (\n",
    "            \"human\",\n",
    "            \"Use the given format to extract information from the following \"\n",
    "            \"input: {question}\",\n",
    "        ),\n",
    "    ]\n",
    ")"
   ]
  },
  {
   "cell_type": "code",
   "execution_count": 24,
   "metadata": {},
   "outputs": [],
   "source": [
    "entity_chain = prompt | llm.with_structured_output(Entities)"
   ]
  },
  {
   "cell_type": "code",
   "execution_count": 25,
   "metadata": {},
   "outputs": [
    {
     "data": {
      "text/plain": [
       "['Naveen Pattnaik']"
      ]
     },
     "execution_count": 25,
     "metadata": {},
     "output_type": "execute_result"
    }
   ],
   "source": [
    "entity_chain.invoke({\"question\": \"Where was Naveen Pattnaik born?\"}).names"
   ]
  },
  {
   "cell_type": "code",
   "execution_count": 26,
   "metadata": {},
   "outputs": [],
   "source": [
    "graph.query(\n",
    "    \"CREATE FULLTEXT INDEX entity IF NOT EXISTS FOR (e:__Entity__) ON EACH [e.id]\")\n",
    "\n",
    "def generate_full_text_query(input: str) -> str:\n",
    "    \"\"\"\n",
    "    Generate a full-text search query for a given input string.\n",
    "\n",
    "    This function constructs a query string suitable for a full-text search.\n",
    "    It processes the input string by splitting it into words and appending a\n",
    "    similarity threshold (~2 changed characters) to each word, then combines \n",
    "    them using the AND operator. Useful for mapping entities from user questions\n",
    "    to database values, and allows for some misspelings.\n",
    "    \"\"\"\n",
    "    full_text_query = \"\"\n",
    "    words = [el for el in remove_lucene_chars(input).split() if el]\n",
    "    for word in words[:-1]:\n",
    "        full_text_query += f\" {word}~2 AND\"\n",
    "    full_text_query += f\" {words[-1]}~2\"\n",
    "    return full_text_query.strip()"
   ]
  },
  {
   "cell_type": "code",
   "execution_count": 27,
   "metadata": {},
   "outputs": [],
   "source": [
    "# Fulltext index query\n",
    "def structured_retriever(question: str) -> str:\n",
    "    \"\"\"\n",
    "    Collects the neighborhood of entities mentioned\n",
    "    in the question\n",
    "    \"\"\"\n",
    "    result = \"\"\n",
    "    entities = entity_chain.invoke({\"question\": question})\n",
    "    for entity in entities.names:\n",
    "        response = graph.query(\n",
    "            \"\"\"CALL db.index.fulltext.queryNodes('entity', $query, {limit:2})\n",
    "            YIELD node,score\n",
    "            CALL {\n",
    "              MATCH (node)-[r:!MENTIONS]->(neighbor)\n",
    "              RETURN node.id + ' - ' + type(r) + ' -> ' + neighbor.id AS output\n",
    "              UNION\n",
    "              MATCH (node)<-[r:!MENTIONS]-(neighbor)\n",
    "              RETURN neighbor.id + ' - ' + type(r) + ' -> ' +  node.id AS output\n",
    "            }\n",
    "            RETURN output LIMIT 50\n",
    "            \"\"\",\n",
    "            {\"query\": generate_full_text_query(entity)},\n",
    "        )\n",
    "        result += \"\\n\".join([el['output'] for el in response])\n",
    "    return result"
   ]
  },
  {
   "cell_type": "code",
   "execution_count": 29,
   "metadata": {},
   "outputs": [
    {
     "name": "stdout",
     "output_type": "stream",
     "text": [
      "Naveen Patnaik - POSITION -> 14Th Chief Minister Of Odisha\n",
      "Naveen Patnaik - POSITION -> Union Minister Of Steel And Mines\n",
      "Naveen Patnaik - POSITION -> Chief Minister Of Odisha\n",
      "Naveen Patnaik - POSITION -> Union Minister For Mines\n",
      "Naveen Patnaik - START_DATE -> 5 March 2000\n",
      "Naveen Patnaik - START_DATE -> 1998\n",
      "Naveen Patnaik - END_DATE -> 12 June 2024\n",
      "Naveen Patnaik - END_DATE -> 2000\n",
      "Naveen Patnaik - FOUNDER -> Biju Janata Dal\n",
      "Naveen Patnaik - FOUNDER -> Indian National Trust For Art And Cultural Heritage\n",
      "Naveen Patnaik - FOUNDER_DATE -> 1997\n",
      "Naveen Patnaik - MEMBER -> Lok Sabha\n",
      "Naveen Patnaik - MEMBER -> 11Th Lok Sabha\n",
      "Naveen Patnaik - MEMBER -> Consultative Committee Of Ministry Of Steel & Mines\n",
      "Naveen Patnaik - MEMBER -> Standing Committee On Commerce\n",
      "Naveen Patnaik - MEMBER -> Library Committee Of Parliament\n",
      "Naveen Patnaik - MEMBER -> Third Front\n",
      "Naveen Patnaik - MEMBER_LOCATION -> Aska\n",
      "Naveen Patnaik - BIRTHPLACE -> Cuttack\n",
      "Naveen Patnaik - CHILD_OF -> Biju Patnaik\n",
      "Naveen Patnaik - CHILD_OF -> Gyan Devi\n",
      "Naveen Patnaik - EDUCATION -> Welham Boys' School\n",
      "Naveen Patnaik - EDUCATION -> The Doon School\n",
      "Naveen Patnaik - EDUCATION -> Kirori Mal College\n",
      "Naveen Patnaik - EDUCATION -> Delhi University\n",
      "Naveen Patnaik - EDUCATION_LOCATION -> Dehradun\n",
      "Naveen Patnaik - CLASSMATE -> Sanjay Gandhi\n",
      "Naveen Patnaik - CLASSMATE -> Rajiv Gandhi\n",
      "Naveen Patnaik - SIBLING -> Gita Mehta\n",
      "Naveen Patnaik - LEADER -> Bjd\n",
      "Naveen Patnaik - WINNER -> 2000 Assembly Election\n",
      "Naveen Patnaik - WINNER -> 2004 General Elections\n",
      "Naveen Patnaik - WINNER -> Vidhan Sabha\n",
      "Naveen Patnaik - WINNER -> Odisha Assembly Elections\n",
      "Naveen Patnaik - WINNER -> State Assembly\n",
      "Naveen Patnaik - WINNER -> 2014 Elections\n",
      "Naveen Patnaik - PRESIDENT -> Biju Janata Dal\n",
      "Naveen Patnaik - ELECTED_POSITION -> Chief Minister Of Odisha\n",
      "Naveen Patnaik - TIME -> 2019\n",
      "Naveen Patnaik - MINISTER_OF_MINES_AND_MINERALS -> Republic Of India\n",
      "Naveen Patnaik - APPOINTED -> Chief Minister Of Odisha\n",
      "Naveen Patnaik - APPOINTED -> Union Minister For Mines\n",
      "Naveen Patnaik - APPOINTED -> Arup Patnaik\n",
      "Naveen Patnaik - SPEAKS -> Odia\n",
      "Naveen Patnaik - HELD_POSITION -> Union Minister Of Steel And Mines\n",
      "Naveen Patnaik - HELD_POSITION -> Chief Minister\n",
      "Naveen Patnaik - SECOND_LONGEST_REIGN_AS_CHIEF_MINISTER -> Pawan Kumar Chamling\n",
      "Naveen Patnaik - MEMBER_FROM_ASKA -> Lok Sabha\n",
      "Naveen Patnaik - FATHER -> Biju Patnaik\n",
      "Naveen Patnaik - MOTHER -> Gyan Devi\n"
     ]
    }
   ],
   "source": [
    "print(structured_retriever(\"Who is Navin Pattnaik?\"))"
   ]
  },
  {
   "cell_type": "code",
   "execution_count": 30,
   "metadata": {},
   "outputs": [],
   "source": [
    "def retriever(question: str):\n",
    "    print(f\"Search query: {question}\")\n",
    "    structured_data = structured_retriever(question)\n",
    "    unstructured_data = [el.page_content for el in vector_index.similarity_search(question)]\n",
    "    final_data = f\"\"\"Structured data:\n",
    "{structured_data}\n",
    "Unstructured data:\n",
    "{\"#Document \". join(unstructured_data)}\n",
    "    \"\"\"\n",
    "    return final_data"
   ]
  },
  {
   "cell_type": "code",
   "execution_count": 33,
   "metadata": {},
   "outputs": [],
   "source": [
    "# Condense a chat history and follow-up question into a standalone question\n",
    "_template = \"\"\"Given the following conversation and a follow up question, rephrase the follow up question to be a standalone question,\n",
    "in its original language.\n",
    "Chat History:\n",
    "{chat_history}\n",
    "Follow Up Input: {question}\n",
    "Standalone question:\"\"\"  # noqa: E501\n",
    "CONDENSE_QUESTION_PROMPT = PromptTemplate.from_template(_template)\n",
    "\n",
    "def _format_chat_history(chat_history: List[Tuple[str, str]]) -> List:\n",
    "    buffer = []\n",
    "    for human, ai in chat_history:\n",
    "        buffer.append(HumanMessage(content=human))\n",
    "        buffer.append(AIMessage(content=ai))\n",
    "    return buffer\n",
    "\n",
    "_search_query = RunnableBranch(\n",
    "    # If input includes chat_history, we condense it with the follow-up question\n",
    "    (\n",
    "        RunnableLambda(lambda x: bool(x.get(\"chat_history\"))).with_config(\n",
    "            run_name=\"HasChatHistoryCheck\"\n",
    "        ),  # Condense follow-up question and chat into a standalone_question\n",
    "        RunnablePassthrough.assign(\n",
    "            chat_history=lambda x: _format_chat_history(x[\"chat_history\"])\n",
    "        )\n",
    "        | CONDENSE_QUESTION_PROMPT\n",
    "        | ChatOpenAI(temperature=0)\n",
    "        | StrOutputParser(),\n",
    "    ),\n",
    "    # Else, we have no chat history, so just pass through the question\n",
    "    RunnableLambda(lambda x : x[\"question\"]),\n",
    ")"
   ]
  },
  {
   "cell_type": "code",
   "execution_count": 31,
   "metadata": {},
   "outputs": [],
   "source": [
    "template = \"\"\"Answer the question based only on the following context:\n",
    "{context}\n",
    "\n",
    "Question: {question}\n",
    "\"\"\"\n",
    "prompt = ChatPromptTemplate.from_template(template)"
   ]
  },
  {
   "cell_type": "code",
   "execution_count": 34,
   "metadata": {},
   "outputs": [],
   "source": [
    "chain = (\n",
    "    RunnableParallel(\n",
    "        {\n",
    "            \"context\": _search_query | retriever,\n",
    "            \"question\": RunnablePassthrough(),\n",
    "        }\n",
    "    )\n",
    "    | prompt\n",
    "    | llm\n",
    "    | StrOutputParser()\n",
    ")"
   ]
  },
  {
   "cell_type": "code",
   "execution_count": 35,
   "metadata": {},
   "outputs": [
    {
     "name": "stdout",
     "output_type": "stream",
     "text": [
      "Search query: Where did Navin Patnaik attend school?\n"
     ]
    },
    {
     "data": {
      "text/plain": [
       "\"Naveen Patnaik attended Welham Boys' School in Dehradun and The Doon School.\""
      ]
     },
     "execution_count": 35,
     "metadata": {},
     "output_type": "execute_result"
    }
   ],
   "source": [
    "chain.invoke({\"question\": \"Where did Navin Patnaik attend school?\"})"
   ]
  },
  {
   "cell_type": "code",
   "execution_count": 36,
   "metadata": {},
   "outputs": [
    {
     "name": "stdout",
     "output_type": "stream",
     "text": [
      "Search query: Who was Naveen Patnaik's classmate at Welham Boys' School in Dehradun and The Doon School?\n"
     ]
    },
    {
     "data": {
      "text/plain": [
       "'Sanjay Gandhi and Rajiv Gandhi were his classmates at The Doon School.'"
      ]
     },
     "execution_count": 36,
     "metadata": {},
     "output_type": "execute_result"
    }
   ],
   "source": [
    "chain.invoke(\n",
    "    {\n",
    "        \"question\": \"Who was his class mate there\",\n",
    "        \"chat_history\": [(\"Where did Navin Patnaik attend school?\", \"Naveen Patnaik attended Welham Boys' School in Dehradun and The Doon School.\")],\n",
    "    }\n",
    ")"
   ]
  },
  {
   "cell_type": "code",
   "execution_count": null,
   "metadata": {},
   "outputs": [],
   "source": []
  }
 ],
 "metadata": {
  "kernelspec": {
   "display_name": "test_env0",
   "language": "python",
   "name": "python3"
  },
  "language_info": {
   "codemirror_mode": {
    "name": "ipython",
    "version": 3
   },
   "file_extension": ".py",
   "mimetype": "text/x-python",
   "name": "python",
   "nbconvert_exporter": "python",
   "pygments_lexer": "ipython3",
   "version": "3.12.3"
  }
 },
 "nbformat": 4,
 "nbformat_minor": 2
}
